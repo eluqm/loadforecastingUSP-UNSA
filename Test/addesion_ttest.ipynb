{
  "cells": [
    {
      "cell_type": "code",
      "source": [
        "import csv\n",
        "import os\n",
        "import scipy.stats as s\n",
        "import pandas as pd\n",
        "import numpy\n",
        "from matplotlib import pyplot\n",
        "from pandas import Series\n",
        "from numpy import log\n",
        "from numpy import random\n",
        "from statsmodels.tsa.stattools import adfuller\n",
        "\n",
        "def getHistMean_by_Month(array_tserie,month):\n",
        "    summ=0;\n",
        "    count=0;\n",
        "    for i in xrange(month,len(array_tserie),12):\n",
        "        #print array_tserie[i];\n",
        "        summ = summ + array_tserie[i];\n",
        "        count=count+1;\n",
        "\n",
        "    return summ/count;\n",
        "def getHistArray_by_Month(array_tserie,month):\n",
        "    array_means_hist=[];\n",
        "    #for ii in xrange(0,tserieDframe.shape[1],tserieDframe.shape[1]/years):\n",
        "    for i in xrange(month,len(array_tserie),12):\n",
        "        #print array_tserie[i];\n",
        "        array_means_hist+=[array_tserie[i]]\n",
        "        \n",
        "    return array_means_hist;\n",
        "    \n",
        "def getSinteticMean_by_Month(tserieDframe,years,month):\n",
        "    summ = 0;\n",
        "    array_means=[];\n",
        "    for ii in xrange(0,tserieDframe.shape[1],tserieDframe.shape[1]/years):\n",
        "        tserie_temp=tserieDframe.iloc[month,summ:summ+tserieDframe.shape[1]].copy()\n",
        "        summ= summ + tserieDframe.shape[1]/years\n",
        "        array_means +=[numpy.mean(tserie_temp)]\n",
        "        \n",
        "    return array_means\n",
        "\n",
        "def getSintetics_by_Month(tserieDframe,total_years,year,month):\n",
        "    array_sintetic=[];\n",
        "    # first year=1 not 0 \n",
        "    index=tserieDframe.shape[1]/total_years\n",
        "    array_sintetic=tserieDframe.iloc[month,((year-1)*index):((year-1)*index)+tserieDframe.shape[1]/total_years].copy()\n",
        "    return array_sintetic"
      ],
      "outputs": [],
      "execution_count": 16,
      "metadata": {
        "collapsed": false,
        "outputHidden": false,
        "inputHidden": false
      }
    },
    {
      "cell_type": "code",
      "source": [
        "#hidro = open('/home/edson/Documents/echo_project/loadforecastingUSP-UNSA/source03179000bluestoneM.dly.csv','rU')\n",
        "hidro = open('/home/edson/Documents/echo_project/loadforecastingUSP-UNSA/source/03179000bluestoneM.dly.csv','rU')\n",
        "dframe= pd.read_csv(hidro,header=None)\n",
        "sintetic= open('/home/edson/Documents/echo_project/03179000series_ESN_4','rU')\n",
        "tempSerie= dframe.iloc[:,2].copy()\n",
        "dframe2=pd.read_csv(sintetic,header=None)\n",
        "print dframe2;\n",
        "mean_historical=getHistMean_by_Month(tempSerie,0)\n",
        "mean_sintec_historical=getSinteticMean_by_Month(dframe2,4,0)\n",
        "#print tempSerie;\n",
        "print mean_historical\n",
        "print(\"T-value   P-value (two-tail)\")\n",
        "print(s.ttest_1samp(mean_sintec_historical,mean_historical))"
      ],
      "outputs": [
        {
          "output_type": "stream",
          "name": "stdout",
          "text": [
            "        0        1        2        3        4        5        6        7    \\\n",
            "0   1.17820  2.10500  1.33420  1.98300  1.88440  1.20830  2.51160  1.57450   \n",
            "1   2.86480  2.78490  2.58730  2.65510  2.69080  1.92830  2.77220  2.50150   \n",
            "2   3.22100  3.16140  2.86050  3.27180  2.67780  2.62270  2.99590  2.57140   \n",
            "3   1.62410  2.19190  1.94830  2.17030  2.23300  1.84030  2.23000  2.21950   \n",
            "4   1.73980  1.93510  1.65560  1.65600  1.64090  1.32060  1.94920  1.61340   \n",
            "5   0.80645  0.79456  0.78837  0.86033  0.52364  1.02070  0.78692  0.64359   \n",
            "6   0.39609  0.52403  0.36862  0.38443  0.29168  0.39817  0.30166  0.35886   \n",
            "7   0.33251  0.31382  0.25700  0.24386  0.11432  0.21749  0.27006  0.30190   \n",
            "8   0.25651  0.34104  0.19949  0.18806  0.24687  0.22234  0.18951  0.22981   \n",
            "9   0.37669  0.42779  0.24471  0.28124  0.20298  0.32235  0.25544  0.33009   \n",
            "10  0.72790  0.99908  0.42152  0.55479  0.44003  0.64760  0.41876  0.73270   \n",
            "11  1.43680  1.62780  1.25580  1.05650  1.23620  1.25370  0.82925  1.52670   \n",
            "\n",
            "        8        9     ...         590      591      592      593      594  \\\n",
            "0   1.77420  1.63800   ...     1.66460  1.73920  1.19710  1.64600  2.11420   \n",
            "1   2.48800  2.28510   ...     2.70980  2.33130  2.42580  2.51680  2.77030   \n",
            "2   2.91400  2.70910   ...     2.72440  2.77480  2.41750  2.50620  4.67140   \n",
            "3   2.08510  2.00820   ...     2.05220  1.72230  1.49090  2.31430  2.95040   \n",
            "4   2.00140  1.24120   ...     2.09660  1.03200  1.19440  1.54780  2.35180   \n",
            "5   0.79235  0.60273   ...     0.83274  0.55986  0.74740  0.93363  1.06150   \n",
            "6   0.39470  0.31730   ...     0.28504  0.37136  0.25917  0.37405  0.39506   \n",
            "7   0.33028  0.24670   ...     0.39831  0.28131  0.33458  0.27124  0.28864   \n",
            "8   0.23558  0.16200   ...     0.20935  0.15258  0.20235  0.21640  0.29938   \n",
            "9   0.46505  0.32884   ...     0.23170  0.32620  0.25792  0.29699  0.25490   \n",
            "10  0.69999  0.47358   ...     0.43985  0.61517  0.49877  0.53952  1.53050   \n",
            "11  1.24780  1.05360   ...     1.24420  1.08000  0.65114  0.91166  1.30280   \n",
            "\n",
            "        595      596      597      598      599  \n",
            "0   1.32760  2.25820  1.60360  1.42600  2.02910  \n",
            "1   3.07500  2.65530  2.22840  2.51790  2.35800  \n",
            "2   2.69440  2.25560  2.68030  3.23570  3.02550  \n",
            "3   2.04240  1.66580  2.26640  2.49790  1.87860  \n",
            "4   1.80460  1.37690  1.96050  1.80520  1.49370  \n",
            "5   0.55732  0.52003  0.99462  0.72267  0.75463  \n",
            "6   0.25988  0.36748  0.40981  0.38314  0.34397  \n",
            "7   0.22175  0.22957  0.26715  0.26506  0.26621  \n",
            "8   0.21374  0.30098  0.22507  0.22270  0.21923  \n",
            "9   0.26209  0.34274  0.32247  0.32940  0.33618  \n",
            "10  0.65132  0.65180  0.50242  0.50556  0.83455  \n",
            "11  1.34520  1.38840  1.70380  0.91920  1.30590  \n",
            "\n",
            "[12 rows x 600 columns]\n",
            "1.68480722776\n",
            "T-value   P-value (two-tail)\n",
            "Ttest_1sampResult(statistic=-7.2695833877072351, pvalue=0.0053718172968653666)\n"
          ]
        }
      ],
      "execution_count": 17,
      "metadata": {
        "collapsed": false,
        "outputHidden": false,
        "inputHidden": false
      }
    },
    {
      "cell_type": "code",
      "source": [
        "# creating t-tes for historical mean and 150 sintetic values by month\n",
        "sintetic_series=getSintetics_by_Month(dframe2,4,4,7)# params: sintetic series, years horizon, especific year, month \n",
        "historical_array=getHistArray_by_Month(tempSerie,7)\n",
        "mean_historical2= getHistMean_by_Month(tempSerie,7)\n",
        "#print tempSerie\n",
        "#print historical_array\n",
        "print(\"T-value   P-value (two-tail)\")\n",
        "print(s.ttest_1samp(sintetic_series,mean_historical2))\n",
        "print(\"T-value   P-value (two-sample)\")\n",
        "print(s.ttest_ind(sintetic_series,historical_array,equal_var = True))\n",
        "rvs = s.norm.rvs(loc=5, scale=10, size=(50,2))\n",
        "print rvs\n",
        "s.ttest_1samp(rvs,5.0)"
      ],
      "outputs": [
        {
          "output_type": "stream",
          "name": "stdout",
          "text": [
            "T-value   P-value (two-tail)\n",
            "Ttest_1sampResult(statistic=-2.695967514762605, pvalue=0.0078260645187396664)\n",
            "T-value   P-value (two-sample)\n",
            "Ttest_indResult(statistic=-0.92221855009762244, pvalue=0.35754264895481502)\n",
            "[[  1.10985891e+01   7.02681379e+00]\n",
            " [  1.25612898e+00  -2.41731438e+00]\n",
            " [  3.44208409e+00   1.50492259e+01]\n",
            " [ -3.92845133e-01   5.74451467e+00]\n",
            " [ -1.02575163e+01   7.75269127e+00]\n",
            " [  1.62355866e+01   8.80185204e+00]\n",
            " [  6.79638622e+00   4.54996174e+00]\n",
            " [ -2.09573615e+00   4.61280204e+00]\n",
            " [ -4.85844491e+00   1.58068751e+01]\n",
            " [  1.61545943e+01   2.10220609e+01]\n",
            " [ -6.04963540e+00   1.52728670e+01]\n",
            " [ -8.08535742e+00  -1.18856580e+01]\n",
            " [  2.19244710e+00   1.39434966e+01]\n",
            " [ -2.30684831e+00  -5.70034813e+00]\n",
            " [ -1.08652093e+01   9.95233211e+00]\n",
            " [  6.19687198e+00   8.60075379e+00]\n",
            " [  2.43528100e+00   7.02083742e+00]\n",
            " [  9.38369756e+00   5.89629374e+00]\n",
            " [  2.12122984e+01   7.96624795e+00]\n",
            " [  4.24975700e+00   3.27773528e+00]\n",
            " [  1.80842942e+01   8.04570012e+00]\n",
            " [  1.38867646e+01  -8.03830395e+00]\n",
            " [  9.18753930e+00   1.74856470e+01]\n",
            " [  1.62681861e+01   7.31718945e+00]\n",
            " [  6.67823598e+00   1.63535293e+01]\n",
            " [  4.35918778e-01   3.04782817e+00]\n",
            " [  1.16741781e+01   1.02490117e+01]\n",
            " [  5.70381119e+00   6.91537077e+00]\n",
            " [ -7.15297717e+00  -4.50013757e+00]\n",
            " [ -8.15961949e-01   6.70861603e+00]\n",
            " [  1.76253342e-01   1.13922167e+01]\n",
            " [  7.23900523e+00   1.57154098e+01]\n",
            " [  5.50537225e+00   2.16521631e+01]\n",
            " [  1.67277551e+01   1.15347337e+01]\n",
            " [  2.49966228e+01   1.25852154e+01]\n",
            " [ -7.99960057e-01   1.64448807e+01]\n",
            " [  7.14493603e+00   1.06259571e+01]\n",
            " [  2.10647156e+01   2.31240909e+01]\n",
            " [  1.96962704e+01   9.35383262e+00]\n",
            " [  2.30993579e+01   3.21885741e+00]\n",
            " [ -6.28058394e+00   1.25591426e+01]\n",
            " [  9.43501286e-01   1.45102299e+01]\n",
            " [  6.24666996e+00  -4.34459157e+00]\n",
            " [  1.34755889e+00  -8.49522856e+00]\n",
            " [ -1.72199867e+00   1.80353946e+01]\n",
            " [  1.52994330e+01  -5.68495403e+00]\n",
            " [ -1.47946810e+01   7.10167994e-02]\n",
            " [  1.71606179e-02  -5.34661322e-01]\n",
            " [ -1.37565523e+01   9.35783532e+00]\n",
            " [ -5.86422330e+00   1.17254243e+01]]\n"
          ]
        },
        {
          "output_type": "execute_result",
          "execution_count": 43,
          "data": {
            "text/plain": [
              "Ttest_1sampResult(statistic=array([-0.19916628,  2.39962588]), pvalue=array([ 0.84295683,  0.02025844]))"
            ]
          },
          "metadata": {}
        }
      ],
      "execution_count": 43,
      "metadata": {
        "collapsed": false,
        "outputHidden": false,
        "inputHidden": false
      }
    }
  ],
  "metadata": {
    "kernelspec": {
      "name": "python2",
      "language": "python",
      "display_name": "Python 2"
    },
    "kernel_info": {
      "name": "python2"
    },
    "language_info": {
      "mimetype": "text/x-python",
      "nbconvert_exporter": "python",
      "name": "python",
      "pygments_lexer": "ipython2",
      "version": "2.7.12",
      "file_extension": ".py",
      "codemirror_mode": {
        "version": 2,
        "name": "ipython"
      }
    }
  },
  "nbformat": 4,
  "nbformat_minor": 4
}